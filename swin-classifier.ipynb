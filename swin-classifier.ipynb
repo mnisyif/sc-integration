{
 "cells": [
  {
   "cell_type": "code",
   "execution_count": null,
   "id": "a6da5541",
   "metadata": {},
   "outputs": [],
   "source": [
    "import torch, os\n",
    "import matplotlib.pyplot as plt\n",
    "\n",
    "import torch.nn as nn\n",
    "\n",
    "from torchvision import datasets, transforms\n",
    "from torch.utils.data import DataLoader\n",
    "from timm.layers import DropPath, to_2tuple, trunc_normal_"
   ]
  },
  {
   "cell_type": "code",
   "execution_count": null,
   "id": "9e4f9950",
   "metadata": {},
   "outputs": [],
   "source": [
    "current_dir = os.getcwd()\n",
    "train_path = os.path.join(current_dir, 'imagenet1k', 'train')\n",
    "test_path = os.path.join(current_dir, 'imagenet1k', 'test')\n",
    "idx_to_label_path = os.path.join(current_dir, 'imagenet1k', 'idx_to_label.txt')"
   ]
  },
  {
   "cell_type": "markdown",
   "id": "1f24026d",
   "metadata": {},
   "source": [
    "## Create datasets and dataloaders"
   ]
  },
  {
   "cell_type": "code",
   "execution_count": null,
   "id": "49d0bf4b",
   "metadata": {},
   "outputs": [],
   "source": [
    "import ast\n",
    "\n",
    "NUM_WORKERS = os.cpu_count() \n",
    "\n",
    "def create_loaders(train_dir, test_dir, idx_to_label_path, transform, batch_size, num_workers=NUM_WORKERS):\n",
    "    train_dataset = datasets.ImageFolder(train_dir, transform=transform)\n",
    "    test_dataset = datasets.ImageFolder(test_dir, transform=transform)\n",
    "\n",
    "    class_names = train_dataset.classes\n",
    "    \n",
    "    # Load the idx_to_label mapping\n",
    "    with open(idx_to_label_path, 'r') as f:\n",
    "        content = f.read()\n",
    "        idx_to_label = ast.literal_eval(content)\n",
    "\n",
    "    train_loader = DataLoader(train_dataset, batch_size=batch_size, shuffle=True, num_workers=num_workers, pin_memory=True)\n",
    "    test_loader = DataLoader(test_dataset, batch_size=batch_size, shuffle=False, num_workers=num_workers, pin_memory=True)\n",
    "\n",
    "    return train_loader, test_loader, class_names, idx_to_label"
   ]
  },
  {
   "cell_type": "code",
   "execution_count": null,
   "id": "2b674630",
   "metadata": {},
   "outputs": [],
   "source": [
    "IMG_SIZE = 224\n",
    "\n",
    "manual_transforms = transforms.Compose([\n",
    "    transforms.Resize((IMG_SIZE, IMG_SIZE)),\n",
    "    transforms.ToTensor(),\n",
    "])\n",
    "\n",
    "print(f\"Manually created transforms: {manual_transforms}\")"
   ]
  },
  {
   "cell_type": "code",
   "execution_count": null,
   "id": "5deaa874",
   "metadata": {},
   "outputs": [],
   "source": [
    "BATCH_SIZE = 32\n",
    "\n",
    "train_loader, test_loader, class_names, idx_to_label = create_loaders(train_path, test_path, idx_to_label_path, manual_transforms, BATCH_SIZE)\n",
    "\n",
    "print(f\"Number of classes: {len(class_names)}\")\n",
    "print(f\"First 10 idx_to_label mappings: {list(idx_to_label.items())[:10]}\")\n",
    "print(f\"Train loader: {train_loader}\")\n",
    "print(f\"Test loader: {test_loader}\")"
   ]
  },
  {
   "cell_type": "code",
   "execution_count": null,
   "id": "43f27d96",
   "metadata": {},
   "outputs": [],
   "source": []
  }
 ],
 "metadata": {
  "kernelspec": {
   "display_name": "ecsc",
   "language": "python",
   "name": "python3"
  },
  "language_info": {
   "codemirror_mode": {
    "name": "ipython",
    "version": 3
   },
   "file_extension": ".py",
   "mimetype": "text/x-python",
   "name": "python",
   "nbconvert_exporter": "python",
   "pygments_lexer": "ipython3",
   "version": "3.11.12"
  }
 },
 "nbformat": 4,
 "nbformat_minor": 5
}
